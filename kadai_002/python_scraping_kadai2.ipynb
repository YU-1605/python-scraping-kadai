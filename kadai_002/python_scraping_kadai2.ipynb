{
  "nbformat": 4,
  "nbformat_minor": 0,
  "metadata": {
    "colab": {
      "provenance": []
    },
    "kernelspec": {
      "name": "python3",
      "display_name": "Python 3"
    },
    "language_info": {
      "name": "python"
    }
  },
  "cells": [
    {
      "cell_type": "code",
      "execution_count": 3,
      "metadata": {
        "colab": {
          "base_uri": "https://localhost:8080/"
        },
        "id": "zxWNGrY-ZvFP",
        "outputId": "345e6e0f-117b-42e3-eca7-8f23e5a7ef36"
      },
      "outputs": [
        {
          "output_type": "stream",
          "name": "stdout",
          "text": [
            "APIキーを入力してください:··········\n",
            "検索する駅を入力してください:秋葉原\n",
            "とんこつラーメン 博多風龍 秋葉原総本店4千代田区外神田３丁目１５−６\n",
            "トラットリア ラ・テスタドゥーラ4.3千代田区神田須田町１丁目１３−８ 加納ビル 1階\n",
            "伊吹や製麺 秋葉原UDX店3.6千代田区外神田４丁目１４−１ 秋葉原UDXレストラン街アキバイチ 2F\n",
            "デニーズ秋葉原中央口店3.7千代田区神田佐久間町１丁目８−３ ダイハツ秋葉原ビル２Ｆ\n",
            "スターバックスコーヒー アトレ秋葉原1店3.9千代田区外神田１丁目１７−６ アトレ秋葉原 １\n",
            "ペッパーランチ 秋葉原店3.8千代田区外神田１丁目１５−１\n",
            "てんぷら 天芳4.2千代田区神田練塀町３−１０\n",
            "ローストビーフ大野 秋葉原店4.6千代田区外神田１丁目２−３ 土屋ビル 地下1階\n",
            "そば処 新田毎3.5千代田区外神田１丁目１７−６ 改札内 4階 総武線下り6番ホーム中ほど 秋葉原駅\n",
            "かんだやぶそば4千代田区神田淡路町２丁目１０\n",
            "カールスジュニア秋葉原中央通りレストラン4.1千代田区外神田４丁目４−３ 秋葉原Silビル 1階\n",
            "中華料理 雁川3.8千代田区外神田３丁目１０−１０ 白銀会館 Ｂ１Ｆ\n",
            "春日亭 秋葉原店4.1千代田区外神田３丁目１−１２ 大石ビル 1F\n",
            "カラオケパセラ秋葉原電気街店4.1千代田区外神田１丁目１３−２ パセラリゾーツ秋葉原電気街店１Ｆ\n",
            "いろり庵きらく 秋葉原3.6千代田区神田花岡町１−９\n",
            "Blossom & Bouquet 秋葉原UDX店3.8千代田区外神田４丁目１４−１ 秋葉原UDXビル 5F\n",
            "カラオケパセラ秋葉原昭和通り館4千代田区神田佐久間町２丁目１０ パセラリゾーツ 秋葉原昭和通り館 １F\n",
            "ホテルマイステイズ御茶ノ水コンファレンスセンター4.1千代田区神田淡路町２丁目１０−６\n",
            "名代 富士そば 昭和通り店3.4千代田区神田和泉町１−２\n",
            "アジアンダイニングバーSAPANA秋葉原UDX店3.8千代田区外神田４丁目１４−１ 秋葉原UDX2F\n"
          ]
        }
      ],
      "source": [
        "import requests\n",
        "import pprint\n",
        "from getpass import getpass\n",
        "\n",
        "api_key = getpass(\"APIキーを入力してください:\")\n",
        "\n",
        "search_word = input(\"検索する駅を入力してください:\")\n",
        "\n",
        "url = 'https://maps.googleapis.com/maps/api/geocode/json'\n",
        "\n",
        "response = requests.get(\n",
        "    url,\n",
        "    params={\n",
        "        'key':api_key,\n",
        "        'address': search_word\n",
        "\n",
        "    }\n",
        ")\n",
        "json_data = response.json()\n",
        "\n",
        "for location in json_data['results']:\n",
        "  lat = location['geometry']['location']['lat']\n",
        "  lng = location['geometry']['location']['lng']\n",
        "\n",
        "\n",
        "url = \"https://maps.googleapis.com/maps/api/place/nearbysearch/json\"\n",
        "response = requests.get(\n",
        "    url,\n",
        "    params={\n",
        "        \"location\": f\"{lat}, {lng}\",\n",
        "        \"radius\": 500,\n",
        "        \"type\": \"restaurant\",\n",
        "        \"language\": \"ja\",\n",
        "        \"key\": api_key\n",
        "\n",
        "    }\n",
        ")\n",
        "\n",
        "json_data = response.json()\n",
        "\n",
        "for place in json_data[\"results\"]:\n",
        "  name = place[\"name\"]\n",
        "  rating = place[\"rating\"]\n",
        "  vicinity = place[\"vicinity\"]\n",
        "  print(f\"{name}{rating}{vicinity}\")\n",
        "\n"
      ]
    }
  ]
}